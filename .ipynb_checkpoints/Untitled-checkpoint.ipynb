{
 "cells": [
  {
   "cell_type": "code",
   "execution_count": 1,
   "id": "c76fa364-c349-4ada-8c58-8f8004bafbe9",
   "metadata": {},
   "outputs": [
    {
     "ename": "ModuleNotFoundError",
     "evalue": "No module named 'tensorflow.contrib'",
     "output_type": "error",
     "traceback": [
      "\u001b[1;31m---------------------------------------------------------------------------\u001b[0m",
      "\u001b[1;31mModuleNotFoundError\u001b[0m                       Traceback (most recent call last)",
      "Input \u001b[1;32mIn [1]\u001b[0m, in \u001b[0;36m<cell line: 1>\u001b[1;34m()\u001b[0m\n\u001b[1;32m----> 1\u001b[0m \u001b[38;5;28;01mfrom\u001b[39;00m \u001b[38;5;21;01mtensorflow\u001b[39;00m\u001b[38;5;21;01m.\u001b[39;00m\u001b[38;5;21;01mcontrib\u001b[39;00m \u001b[38;5;28;01mimport\u001b[39;00m lite\n",
      "\u001b[1;31mModuleNotFoundError\u001b[0m: No module named 'tensorflow.contrib'"
     ]
    }
   ],
   "source": [
    "from tensorflow.contrib import lite"
   ]
  },
  {
   "cell_type": "code",
   "execution_count": null,
   "id": "2d349c7d-44ff-47a7-bc03-3e7ed5ce1546",
   "metadata": {},
   "outputs": [],
   "source": [
    "converter = lite.TFLiteConverter.from_keras_model_file('model.h5')\n",
    "tfmodel = converter.convert()\n",
    "open (\"model.tflite\" , \"wb\") .write(tfmodel)"
   ]
  },
  {
   "cell_type": "code",
   "execution_count": 6,
   "id": "08aec121-3f6b-4b6a-a92b-79270c6a75e1",
   "metadata": {},
   "outputs": [],
   "source": [
    "import tensorflow as tf\n",
    "import os"
   ]
  },
  {
   "cell_type": "code",
   "execution_count": null,
   "id": "8ba8ac51-3b6d-4b86-b016-592158a6c3a6",
   "metadata": {},
   "outputs": [],
   "source": [
    "os.path.realpath"
   ]
  },
  {
   "cell_type": "code",
   "execution_count": 11,
   "id": "07e89add-531f-461b-8918-4486a6cead36",
   "metadata": {},
   "outputs": [],
   "source": [
    "model_path = os.path.join(os.path.join(os.path.dirname(os.path.realpath(\"mobile_netv2.h5\"))), \"mobile_netv2.h5\")"
   ]
  },
  {
   "cell_type": "code",
   "execution_count": 12,
   "id": "04606aef-389c-4496-8002-fccc6d416efe",
   "metadata": {},
   "outputs": [
    {
     "data": {
      "text/plain": [
       "'F:\\\\Medical Image Analysis\\\\test_deploy_streamlit\\\\mobile_netv2.h5'"
      ]
     },
     "execution_count": 12,
     "metadata": {},
     "output_type": "execute_result"
    }
   ],
   "source": [
    "model_path"
   ]
  },
  {
   "cell_type": "code",
   "execution_count": null,
   "id": "3f3a4f33-0cb8-4432-954b-d50abb9d2f9e",
   "metadata": {},
   "outputs": [],
   "source": [
    "# Convert the model\n",
    "keras_model = tf.keras.models.load_model(model_path)\n",
    "converter = tf.lite.TFLiteConverter.from_keras_model(keras_model) # path to the SavedModel directory\n",
    "tflite_model = converter.convert()\n",
    "\n",
    "# Save the model.\n",
    "with open('mobile_net.tflite', 'wb') as f:\n",
    "    f.write(tflite_model)"
   ]
  },
  {
   "cell_type": "code",
   "execution_count": null,
   "id": "fcdd28ca-090f-449d-b1d5-ee9e0874eccd",
   "metadata": {},
   "outputs": [],
   "source": []
  }
 ],
 "metadata": {
  "kernelspec": {
   "display_name": "Python 3 (ipykernel)",
   "language": "python",
   "name": "python3"
  },
  "language_info": {
   "codemirror_mode": {
    "name": "ipython",
    "version": 3
   },
   "file_extension": ".py",
   "mimetype": "text/x-python",
   "name": "python",
   "nbconvert_exporter": "python",
   "pygments_lexer": "ipython3",
   "version": "3.9.13"
  }
 },
 "nbformat": 4,
 "nbformat_minor": 5
}
