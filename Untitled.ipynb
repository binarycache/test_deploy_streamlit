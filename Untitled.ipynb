{
 "cells": [
  {
   "cell_type": "code",
   "execution_count": 39,
   "id": "b00eaf85-344a-4134-b7d3-5248d6328a5c",
   "metadata": {},
   "outputs": [],
   "source": [
    "import tensorflow as tf"
   ]
  },
  {
   "cell_type": "code",
   "execution_count": null,
   "id": "68a8c955-96ee-4f3a-b750-c8ea51262090",
   "metadata": {},
   "outputs": [],
   "source": [
    "from collections import defaultdict"
   ]
  },
  {
   "cell_type": "code",
   "execution_count": null,
   "id": "410bcdfe-4219-4f0e-9a9b-e308b41e5d01",
   "metadata": {},
   "outputs": [],
   "source": [
    "import streamlit as st"
   ]
  },
  {
   "cell_type": "code",
   "execution_count": null,
   "id": "4a9ce0a6-014b-4b98-b414-d686ca4a5474",
   "metadata": {},
   "outputs": [],
   "source": [
    "st.image()"
   ]
  },
  {
   "cell_type": "code",
   "execution_count": null,
   "id": "17079375-6d29-47d3-b740-7d16a5bd5ff9",
   "metadata": {},
   "outputs": [],
   "source": [
    "user_dict = defaultdict(list)"
   ]
  },
  {
   "cell_type": "code",
   "execution_count": null,
   "id": "755f26d1-4c8a-445c-8a17-b308e69daa8d",
   "metadata": {},
   "outputs": [],
   "source": [
    "user_dict['username']"
   ]
  },
  {
   "cell_type": "code",
   "execution_count": null,
   "id": "a13ac8ab-3a42-4904-8555-c77cd1575fd1",
   "metadata": {},
   "outputs": [],
   "source": [
    "if user_dict[\"username\"]==None:\n",
    "    print(\"hi\")"
   ]
  },
  {
   "cell_type": "code",
   "execution_count": null,
   "id": "4f178367-aa41-4567-8867-aa521196e649",
   "metadata": {},
   "outputs": [],
   "source": [
    "import os\n",
    "os.getcwd()"
   ]
  },
  {
   "cell_type": "code",
   "execution_count": null,
   "id": "8ac992ec-9b7b-4a95-a152-c735a56d9415",
   "metadata": {},
   "outputs": [],
   "source": [
    "os.listdir()"
   ]
  },
  {
   "cell_type": "code",
   "execution_count": 50,
   "id": "d6da4d36-f0d8-42fb-bd12-d6e244faa9f5",
   "metadata": {},
   "outputs": [
    {
     "data": {
      "text/plain": [
       "<tensorflow.python.keras.engine.sequential.Sequential at 0x208c3598640>"
      ]
     },
     "execution_count": 50,
     "metadata": {},
     "output_type": "execute_result"
    }
   ],
   "source": [
    "tf.keras.models.load_model('vgg.h5')"
   ]
  },
  {
   "cell_type": "code",
   "execution_count": null,
   "id": "a1440af0-65f3-43e5-b5e5-00ee4769978c",
   "metadata": {},
   "outputs": [],
   "source": [
    "from tensorflow import keras"
   ]
  },
  {
   "cell_type": "code",
   "execution_count": null,
   "id": "dfeef158-3c26-4af7-b6c5-790e39496efb",
   "metadata": {},
   "outputs": [],
   "source": []
  }
 ],
 "metadata": {
  "kernelspec": {
   "display_name": "Python 3 (ipykernel)",
   "language": "python",
   "name": "python3"
  },
  "language_info": {
   "codemirror_mode": {
    "name": "ipython",
    "version": 3
   },
   "file_extension": ".py",
   "mimetype": "text/x-python",
   "name": "python",
   "nbconvert_exporter": "python",
   "pygments_lexer": "ipython3",
   "version": "3.9.13"
  }
 },
 "nbformat": 4,
 "nbformat_minor": 5
}
